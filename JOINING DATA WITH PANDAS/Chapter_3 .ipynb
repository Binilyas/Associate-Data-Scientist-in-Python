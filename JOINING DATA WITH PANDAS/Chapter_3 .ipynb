{
 "cells": [
  {
   "cell_type": "markdown",
   "id": "2a0c3e66",
   "metadata": {},
   "source": [
    "### FILTRING JOIN"
   ]
  },
  {
   "cell_type": "markdown",
   "id": "080ff16f",
   "metadata": {},
   "source": [
    "**What is Filtering JOIn:?**  A filtering join in pandas allowed you to match value from other base on the criteria. pandas did not provide direct filtering join, but this method can be replicated by the use of _inner Join_, _semi join_ and _anti Join_.\n",
    "\n",
    "**INNER JOIN:** In the inner join it bring the match values from the both table. that is if the data A match with data B in another table it will return the data along with column from the both table\n",
    "\n",
    "**SEMI JOIN:** in Semi join it will return only the row of the data if it matches with returning the column from that other table unlike the inner join that return the column from the both table.\n",
    "\n",
    "**Anti Join:** in anti join is the opposite of the semi join it return only the values that is **NOT** present in both table."
   ]
  },
  {
   "cell_type": "code",
   "execution_count": null,
   "id": "b1e780aa",
   "metadata": {},
   "outputs": [],
   "source": [
    "# Excerices \n",
    "\n",
    "# Question 1\n",
    "# Merge employees and top_cust\n",
    "empl_cust = employees.merge(top_cust, on=\"srid\", \n",
    "                            how=\"left\", indicator=True)\n",
    "# Merge employees and top_cust\n",
    "empl_cust = employees.merge(top_cust, on='srid', \n",
    "                            how='left', indicator=True)\n",
    "\n",
    "# Select the srid column where _merge is left_only\n",
    "srid_list = empl_cust.loc[empl_cust['_merge'] == 'left_only', 'srid']\n",
    "\n",
    "#Question 3\n",
    "# Merge employees and top_cust\n",
    "empl_cust = employees.merge(top_cust, on='srid', \n",
    "                                 how='left', indicator=True)\n",
    "\n",
    "# Select the srid column where _merge is left_only\n",
    "srid_list = empl_cust.loc[empl_cust['_merge'] == 'left_only', 'srid']\n",
    "\n",
    "# Get employees not working with top customers\n",
    "print(employees[employees['srid'].isin(srid_list)])\n",
    "\n",
    "# Question 4\n",
    "# Merge the non_mus_tcks and top_invoices tables on tid\n",
    "tracks_invoices = non_mus_tcks.merge(top_invoices, on='tid')\n",
    "\n",
    "# Use .isin() to subset non_mus_tcks to rows with tid in tracks_invoices\n",
    "top_tracks = non_mus_tcks[non_mus_tcks['tid'].isin(tracks_invoices['tid'])]\n",
    "\n",
    "# Group the top_tracks by gid and count the tid rows\n",
    "cnt_by_gid = top_tracks.groupby(['gid'], as_index=False).agg({'tid':'count'})\n",
    "\n",
    "# Merge the genres table to cnt_by_gid on gid and print\n",
    "print(cnt_by_gid.merge(genres, on='gid'))"
   ]
  },
  {
   "cell_type": "markdown",
   "id": "851a231f",
   "metadata": {},
   "source": [
    "#### CONCANTINATING DATAFRAME TOGETHER VERTICALLY"
   ]
  },
  {
   "cell_type": "code",
   "execution_count": null,
   "id": "b8b4f8c3",
   "metadata": {},
   "outputs": [],
   "source": [
    "#Question 1\n",
    "# Concatenate the tracks\n",
    "tracks_from_albums = pd.concat([tracks_master,tracks_ride,tracks_st],\n",
    "                               sort=True)\n",
    "print(tracks_from_albums)\n",
    "\n",
    "#Question 2\n",
    "# Concatenate the tracks, show only columns names that are in all tables\n",
    "tracks_from_albums = pd.concat([tracks_master,tracks_ride,tracks_st],\n",
    "                               join='inner',\n",
    "                               sort=True)\n",
    "print(tracks_from_albums)\n",
    "\n",
    "#Question 3\n",
    "# Concatenate the tables and add keys\n",
    "inv_jul_thr_sep = pd.concat([inv_jul,inv_aug,inv_sep],\n",
    "                            keys=['7Jul','8Aug','9Sep'])\n",
    "\n",
    "# Group the invoices by the index keys and find avg of the total column\n",
    "avg_inv_by_month = inv_jul_thr_sep.groupby(level=0).agg({'total':'mean'})\n",
    "\n",
    "# Bar plot of avg_inv_by_month\n",
    "avg_inv_by_month.plot(kind='bar')\n",
    "plt.show()"
   ]
  },
  {
   "cell_type": "markdown",
   "id": "5ea3a4e1",
   "metadata": {},
   "source": [
    "### Verifying Integrity"
   ]
  },
  {
   "cell_type": "code",
   "execution_count": null,
   "id": "15efb534",
   "metadata": {},
   "outputs": [],
   "source": [
    "#Question 1\n",
    "# Concatenate the classic tables vertically\n",
    "classic_18_19 = pd.concat([classic_18,classic_19], \n",
    "                        ignore_index= True)\n",
    "\n",
    "# Concatenate the pop tables vertically\n",
    "pop_18_19 = pd.concat([pop_18,pop_19],\n",
    "                ignore_index= True)\n",
    "\n",
    "# Question 2\n",
    "# Concatenate the classic tables vertically\n",
    "classic_18_19 = pd.concat([classic_18, classic_19], ignore_index=True)\n",
    "\n",
    "# Concatenate the pop tables vertically\n",
    "pop_18_19 = pd.concat([pop_18, pop_19], ignore_index=True)\n",
    "\n",
    "# Merge classic_18_19 with pop_18_19\n",
    "classic_pop = classic_18_19.merge(pop_18_19, on='tid')\n",
    "\n",
    "# Using .isin(), filter classic_18_19 rows where tid is in classic_pop\n",
    "popular_classic = classic_18_19[classic_18_19['tid'].isin(classic_pop['tid'])]\n",
    "\n",
    "# Print popular chart\n",
    "print(popular_classic)"
   ]
  }
 ],
 "metadata": {
  "kernelspec": {
   "display_name": "Python 3",
   "language": "python",
   "name": "python3"
  },
  "language_info": {
   "name": "python",
   "version": "3.13.1"
  }
 },
 "nbformat": 4,
 "nbformat_minor": 5
}
