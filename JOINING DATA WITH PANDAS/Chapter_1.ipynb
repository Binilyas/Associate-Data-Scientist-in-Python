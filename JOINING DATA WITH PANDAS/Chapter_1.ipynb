{
 "cells": [
  {
   "cell_type": "markdown",
   "id": "32b09946",
   "metadata": {},
   "source": [
    "### **INNER JOIN**\n",
    "\n",
    "#### **What is Inner Join**\n",
    "\n",
    "An INNER JOIN is a way to combine rows from two or more tables based on a related column between them.\n",
    "It is important to note that _Table = DataFrame_ and also _merging = Joinning or Combining_\n",
    "\n",
    "You have two table or the same Data from that are related by one column or two column, before an analysis is good to merge the data to have it in one table. and the best library to use is pandas. to merge a table. use the following code\n",
    "\n",
    "```py\n",
    "import pandas as pd\n",
    "ward_census = merge.ward(census, on \"ward\")\n",
    "```\n",
    "This code first you import a pandas as pd which is use for this manipulation\n",
    "\n",
    "The .merge is the method in pandas to merge, join or combined data together \n",
    "\n",
    "The _ward is the name of the data you want to merge, The census is the DataFrame or Table you want to merge with, \n",
    "while The _on \"ward\"_ is the column in both Data you want to merge together \n"
   ]
  },
  {
   "cell_type": "code",
   "execution_count": 10,
   "id": "5096256d",
   "metadata": {},
   "outputs": [],
   "source": [
    "# Import the pandas library as pd\n",
    "import pandas as pd\n",
    "\n",
    "# Read the Pickle file into a DataFrame\n",
    "\n",
    "wards = pd.read_pickle('ward.p')\n",
    "census = pd.read_pickle('census.p')\n",
    "taxi_owners = pd.read_pickle('taxi_owners.p')\n",
    "taxi_veh = pd.read_pickle('taxi_vehicles.p')\n",
    "license = pd.read_pickle('licenses.p')\n",
    "biz_owners = pd.read_pickle('business_owners.p')"
   ]
  },
  {
   "cell_type": "code",
   "execution_count": null,
   "id": "d19b69db",
   "metadata": {},
   "outputs": [
    {
     "name": "stdout",
     "output_type": "stream",
     "text": [
      "    vid    make   model  year fuel_type                owner\n",
      "0  2767  TOYOTA   CAMRY  2013    HYBRID       SEYED M. BADRI\n",
      "1  1411  TOYOTA    RAV4  2017    HYBRID          DESZY CORP.\n",
      "2  6500  NISSAN  SENTRA  2019  GASOLINE       AGAPH CAB CORP\n",
      "3  2746  TOYOTA   CAMRY  2013    HYBRID  MIDWEST CAB CO, INC\n",
      "4  5922  TOYOTA   CAMRY  2013    HYBRID       SUMETTI CAB CO\n",
      "     rid   vid           owner                 address    zip\n",
      "0  T6285  6285  AGEAN TAXI LLC     4536 N. ELSTON AVE.  60630\n",
      "1  T4862  4862    MANGIB CORP.  5717 N. WASHTENAW AVE.  60659\n",
      "2  T1495  1495   FUNRIDE, INC.     3351 W. ADDISON ST.  60618\n",
      "3  T4231  4231    ALQUSH CORP.   6611 N. CAMPBELL AVE.  60645\n",
      "4  T5971  5971  EUNIFFORD INC.     3351 W. ADDISON ST.  60618\n"
     ]
    }
   ],
   "source": [
    "#Display the first 5 rows of Dataframe taxi_vehicles and taxi_owners\n",
    "print(taxi_veh.head())\n",
    "print(taxi_owners.head())"
   ]
  },
  {
   "cell_type": "markdown",
   "id": "8a13dcbc",
   "metadata": {},
   "source": [
    "#### **EXCERCISE**"
   ]
  },
  {
   "cell_type": "code",
   "execution_count": null,
   "id": "a7e082f6",
   "metadata": {},
   "outputs": [
    {
     "name": "stdout",
     "output_type": "stream",
     "text": [
      "Index(['rid', 'vid', 'owner_x', 'address', 'zip', 'make', 'model', 'year',\n",
      "       'fuel_type', 'owner_y'],\n",
      "      dtype='object')\n",
      "Index(['rid', 'vid', 'owner_own', 'address', 'zip', 'make', 'model', 'year',\n",
      "       'fuel_type', 'owner_veh'],\n",
      "      dtype='object')\n",
      "fuel_type\n",
      "HYBRID                    2792\n",
      "GASOLINE                   611\n",
      "FLEX FUEL                   89\n",
      "COMPRESSED NATURAL GAS      27\n",
      "Name: count, dtype: int64\n",
      "wards_census table shape: (50, 9)\n"
     ]
    }
   ],
   "source": [
    "#QUESTION 1\n",
    "# Merge the taxi_owners and taxi_veh tables\n",
    "taxi_own_veh = taxi_owners.merge(taxi_veh, on=\"vid\")\n",
    "\n",
    "# Print the column names of the taxi_own_veh\n",
    "print(taxi_own_veh.columns)\n",
    "\n",
    "\n",
    "#QUESTION 2\n",
    "# Merge the taxi_owners and taxi_veh tables setting a suffix\n",
    "taxi_own_veh = taxi_owners.merge(taxi_veh, on='vid', suffixes = (\"_own\", \"_veh\"))\n",
    "\n",
    "# Print the column names of taxi_own_veh\n",
    "print(taxi_own_veh.columns)\n",
    "\n",
    "# QUESTION 3\n",
    "# Merge the taxi_owners and taxi_veh tables setting a suffix\n",
    "taxi_own_veh = taxi_owners.merge(taxi_veh, on='vid', suffixes=('_own','_veh'))\n",
    "\n",
    "# Print the value_counts to find the most popular fuel_type\n",
    "print(taxi_own_veh['fuel_type'].value_counts())\n",
    "\n",
    "\n",
    "# QUESTION 4\n",
    "# Merge the wards and census tables on the ward column\n",
    "wards_census = wards.merge(census, on=\"ward\")\n",
    "\n",
    "# Print the shape of wards_census\n",
    "print('wards_census table shape:', wards_census.shape)\n",
    "\n",
    "\n",
    "#QUESTION 5\n",
    "# Print the first few rows of the wards_altered table to view the change \n",
    "print(wards_altered[['ward']].head())\n",
    "\n",
    "# Merge the wards_altered and census tables on the ward column\n",
    "wards_altered_census = wards_altered.merge(census, on=\"ward\")\n",
    "\n",
    "# Print the shape of wards_altered_census\n",
    "print('wards_altered_census table shape:', wards_altered_census.shape)\n",
    "\n",
    "\n",
    "#QUESTION 6\n",
    "# Print the first few rows of the census_altered table to view the change \n",
    "print(census_altered[['ward']].head())\n",
    "\n",
    "# Merge the wards and census_altered tables on the ward column\n",
    "wards_census_altered = wards.merge(census_altered, on=\"ward\")\n",
    "\n",
    "# Print the shape of wards_census_altered\n",
    "print('wards_census_altered table shape:', wards_census_altered.shape)"
   ]
  },
  {
   "cell_type": "markdown",
   "id": "98fcb7bb",
   "metadata": {},
   "source": [
    "#### 📘 **What is a One-to-Many Relationship?**\n",
    "## 📘 What is a One-to-Many Relationship?\n",
    "\n",
    "In a **One-to-Many relationship**, **one record** in **Table A** can be related to **many records** in **Table B**.\n",
    "\n",
    "\n",
    "### 🧠 Example:\n",
    "\n",
    "Imagine a system with:\n",
    "\n",
    "#### 🧑‍🏫 `Teachers` table:\n",
    "| teacher_id | name      |\n",
    "|------------|-----------|\n",
    "| 1          | Mr. Musa  |\n",
    "| 2          | Ms. Grace |\n",
    "\n",
    "#### 📚 `Classes` table:\n",
    "| class_id | class_name | teacher_id |\n",
    "|----------|------------|------------|\n",
    "| 101      | Math       | 1          |\n",
    "| 102      | Physics    | 1          |\n",
    "| 103      | Biology    | 2          |\n",
    "\n",
    "---\n",
    "\n",
    "### 🔗 Relationship:\n",
    "- **Mr. Musa (teacher_id 1)** teaches **Math** and **Physics**\n",
    "- **Ms. Grace (teacher_id 2)** teaches **Biology**\n",
    "\n",
    "So:  \n",
    "> 🧑‍🏫 **One teacher** → can teach **many classes**  \n",
    "> 🏫 **Each class** → is taught by **one teacher**\n",
    "\n",
    "This is a classic **One-to-Many** relationship.\n",
    "\n",
    "---\n",
    "for Examples"
   ]
  },
  {
   "cell_type": "code",
   "execution_count": null,
   "id": "815b6af0",
   "metadata": {},
   "outputs": [
    {
     "name": "stdout",
     "output_type": "stream",
     "text": [
      "ward_license table shape: (10000, 9)\n",
      "  ward            alderman                 addresswar zipwar account  aid  \\\n",
      "0    1  Proco \"Joe\" Moreno  2058 NORTH WESTERN AVENUE  60647   12024  NaN   \n",
      "1    1  Proco \"Joe\" Moreno  2058 NORTH WESTERN AVENUE  60647   14446  743   \n",
      "2    1  Proco \"Joe\" Moreno  2058 NORTH WESTERN AVENUE  60647   14624  775   \n",
      "3    1  Proco \"Joe\" Moreno  2058 NORTH WESTERN AVENUE  60647   14987  NaN   \n",
      "4    1  Proco \"Joe\" Moreno  2058 NORTH WESTERN AVENUE  60647   15642  814   \n",
      "\n",
      "               business               addresslic ziplic  \n",
      "0   DIGILOG ELECTRONICS       1038 N ASHLAND AVE  60622  \n",
      "1      EMPTY BOTTLE INC   1035 N WESTERN AVE 1ST  60622  \n",
      "2  LITTLE MEL'S HOT DOG    2205 N CALIFORNIA AVE  60647  \n",
      "3    MR. BROWN'S LOUNGE   2301 W CHICAGO AVE 1ST  60622  \n",
      "4          Beat Kitchen  2000-2100 W DIVISION ST  60622  \n"
     ]
    }
   ],
   "source": [
    "ward_license = wards.merge(license, on=\"ward\", suffixes=('war', 'lic'))\n",
    "\n",
    "# Print the shape of ward_license\n",
    "print('ward_license table shape:', ward_license.shape)\n",
    "\n",
    "# Print the first few rows of the ward_license table to view the change\n",
    "print(ward_license.head())"
   ]
  },
  {
   "cell_type": "markdown",
   "id": "9e133c53",
   "metadata": {},
   "source": [
    "EXERCISE\n"
   ]
  },
  {
   "cell_type": "code",
   "execution_count": 11,
   "id": "641e1b2f",
   "metadata": {},
   "outputs": [
    {
     "name": "stdout",
     "output_type": "stream",
     "text": [
      "                 account\n",
      "title                   \n",
      "PRESIDENT           6259\n",
      "SECRETARY           5205\n",
      "SOLE PROPRIETOR     1658\n",
      "OTHER               1200\n",
      "VICE PRESIDENT       970\n"
     ]
    }
   ],
   "source": [
    "# QUESTION 1\n",
    "# Merge the licenses and biz_owners table on account\n",
    "licenses_owners = license.merge(biz_owners, on= \"account\")\n",
    "\n",
    "# Group the results by title then count the number of accounts\n",
    "counted_df = licenses_owners.groupby(\"title\").agg({'account':'count'})\n",
    "\n",
    "# Sort the counted_df in descending order\n",
    "sorted_df = counted_df.sort_values(\"account\", ascending=False)\n",
    "\n",
    "# Use .head() method to print the first few rows of sorted_df\n",
    "print(sorted_df.head())"
   ]
  },
  {
   "cell_type": "markdown",
   "id": "31c7b6e3",
   "metadata": {},
   "source": [
    "---\n",
    "### **Merging Multiple DataFrame**"
   ]
  },
  {
   "cell_type": "markdown",
   "id": "3ea461ad",
   "metadata": {},
   "source": [
    "EXCERSICE\n"
   ]
  },
  {
   "cell_type": "code",
   "execution_count": null,
   "id": "fb7063c1",
   "metadata": {},
   "outputs": [],
   "source": [
    "#QUESTION 1\n",
    "# Merge the ridership and cal tables\n",
    "ridership_cal = ridership.merge(cal, on=[\"year\", \"month\", \"day\"])\n",
    "\n",
    "\n",
    "# Question 2\n",
    "# Merge licenses and zip_demo, on zip; and merge the wards on ward\n",
    "licenses_zip_ward = licenses.merge(zip_demo, on= \"zip\") \\\n",
    "            \t\t\t.merge(wards, on=\"ward\")\n",
    "\n",
    "# Print the results by alderman and show median income\n",
    "print(licenses_zip_ward.groupby('alderman').agg({'income':'median'}))\n",
    "\n",
    "# Question 3\n",
    "# Merge land_use and census and merge result with licenses including suffixes\n",
    "land_cen_lic = land_use.merge(census, on='ward') \\\n",
    "                .merge(licenses, on='ward' , suffixes= ['_cen', '_lic'])\n",
    "\n",
    "\n",
    "#QUESTION 4\n",
    "# Merge land_use and census and merge result with licenses including suffixes\n",
    "land_cen_lic = land_use.merge(census, on='ward') \\\n",
    "                    .merge(licenses, on='ward', suffixes=('_cen','_lic'))\n",
    "\n",
    "# Group by ward, pop_2010, and vacant, then count the # of accounts\n",
    "pop_vac_lic = land_cen_lic.groupby(['ward', 'pop_2010', 'vacant'], \n",
    "                                   as_index=False).agg({'account':'count'})\n",
    "\n",
    "\n",
    "#QUESTION 5\n",
    "# Merge land_use and census and merge result with licenses including suffixes\n",
    "land_cen_lic = land_use.merge(census, on='ward') \\\n",
    "                    .merge(licenses, on='ward', suffixes=('_cen','_lic'))\n",
    "\n",
    "# Group by ward, pop_2010, and vacant, then count the # of accounts\n",
    "pop_vac_lic = land_cen_lic.groupby(['ward','pop_2010','vacant'], \n",
    "                                   as_index=False).agg({'account':'count'})\n",
    "\n",
    "# Sort pop_vac_lic and print the results\n",
    "sorted_pop_vac_lic = pop_vac_lic.sort_values(by=['vacant', 'account','pop_2010' ], \n",
    "                                             ascending=[False, True, False])\n",
    "\n",
    "# Print the top few rows of sorted_pop_vac_lic\n",
    "print(sorted_pop_vac_lic.head())"
   ]
  }
 ],
 "metadata": {
  "kernelspec": {
   "display_name": "ArewaDS",
   "language": "python",
   "name": "python3"
  },
  "language_info": {
   "codemirror_mode": {
    "name": "ipython",
    "version": 3
   },
   "file_extension": ".py",
   "mimetype": "text/x-python",
   "name": "python",
   "nbconvert_exporter": "python",
   "pygments_lexer": "ipython3",
   "version": "3.13.1"
  }
 },
 "nbformat": 4,
 "nbformat_minor": 5
}
