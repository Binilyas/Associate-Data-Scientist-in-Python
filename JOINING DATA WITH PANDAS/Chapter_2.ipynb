{
 "cells": [
  {
   "cell_type": "markdown",
   "id": "6c060eae",
   "metadata": {},
   "source": [
    "Great one, Abdulrahman! Let’s talk about the **LEFT JOIN** — it's super useful when you want to keep **all the rows from the first (left) table**, even if there’s no match in the second (right) table.\n",
    "\n",
    "---\n",
    "\n",
    "## 📘 What is a LEFT JOIN?\n",
    "\n",
    "> A **LEFT JOIN** returns **all records from the left table**, and the **matched records from the right table**. If there’s no match, you’ll get `NULL` (or `NaN` in pandas) for the right table’s columns.\n",
    "\n",
    "---\n",
    "\n",
    "### 🧠 Example:\n",
    "\n",
    "#### 🧑 `Employees` (Left Table)\n",
    "| emp_id | name     |\n",
    "|--------|----------|\n",
    "| 1      | Aisha    |\n",
    "| 2      | Rahman   |\n",
    "| 3      | Tunde    |\n",
    "\n",
    "#### 💼 `Departments` (Right Table)\n",
    "| emp_id | department   |\n",
    "|--------|--------------|\n",
    "| 1      | HR           |\n",
    "| 2      | Finance      |\n",
    "\n",
    "\n",
    "\n",
    "### 🔄 Compared to INNER JOIN:\n",
    "- `INNER JOIN` → Only matched rows.\n",
    "- `LEFT JOIN` → All rows from the left, matched or not.\n"
   ]
  },
  {
   "cell_type": "markdown",
   "id": "99696e46",
   "metadata": {},
   "source": [
    "### EXERCISE"
   ]
  },
  {
   "cell_type": "code",
   "execution_count": null,
   "id": "9e2c38d8",
   "metadata": {},
   "outputs": [],
   "source": [
    "# QUESTION 1\n",
    "# Merge the movies table with the financials table with a left join\n",
    "movies_financials = movies.merge(financials, on='id', how='left')\n",
    "\n",
    "# Count the number of rows in the budget column that are missing\n",
    "number_of_missing_fin = movies_financials['budget'].isnull().sum()\n",
    "\n",
    "# Print the number of movies missing financials\n",
    "print(number_of_missing_fin)"
   ]
  }
 ],
 "metadata": {
  "kernelspec": {
   "display_name": "ArewaDS",
   "language": "python",
   "name": "python3"
  },
  "language_info": {
   "name": "python",
   "version": "3.13.1"
  }
 },
 "nbformat": 4,
 "nbformat_minor": 5
}
