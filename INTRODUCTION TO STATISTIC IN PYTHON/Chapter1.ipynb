{
 "cells": [
  {
   "cell_type": "markdown",
   "id": "42567829",
   "metadata": {},
   "source": [
    "### INTRODUCTION TO STATISTIC IN PYTHON\n",
    "\n",
    "_What is Statistic?_: Is a Field of practice, study of collecting and analyzing data\n",
    "\n",
    "_Summary Statistic?_: Is the summary of the data like **mean**, **Average** Etc\n",
    "\n",
    "\n",
    "### TYPES OF STATISTIC\n",
    "- Descriptive Statistic\n",
    "- Inferential Statistic\n",
    "\n",
    "### What can Satistics do?\n",
    "with the help of statistics you can discovered \n",
    "- how likely is someone to purchase a product? are people more likely to purchase it if they can use different payment system\n",
    "- how many occupants will your hotel have? how can you optimize occupancy\n",
    "- how many sizes of jeans need to be manufactured so they can fit *95%* of the population\n",
    "\n",
    "### What can't Satistics do?\n",
    "- why do people like game of throne \n",
    "- why do people prefered rice more than beans"
   ]
  },
  {
   "cell_type": "markdown",
   "id": "3d6d9f0a",
   "metadata": {},
   "source": [
    "**Descriptive vs. Inferential Statistics:** Descriptive statistics involve summarizing data from a sample, such as calculating the average or percentage. Inferential statistics use sample data to make generalizations about a larger population.\n",
    "\n",
    "**Types of Data:** Understanding the difference between numeric (quantitative) and categorical (qualitative) data is crucial. Numeric data can be continuous (measurable) or discrete (countable), while categorical data can be nominal (no inherent order) or ordinal (inherent order).\n",
    "\n",
    "**Data Representation:** Sometimes, categorical variables are represented using numbers, but this does not make them numeric variables. It's important to correctly identify data types to apply appropriate summary statistics and visualizations."
   ]
  },
  {
   "cell_type": "markdown",
   "id": "565452db",
   "metadata": {},
   "source": [
    "### PRACTICE ONE\n",
    "\n",
    "**Instruction**\n",
    "- Import numpy with the alias np.\n",
    "- Subset food_consumption to get the rows where the country is 'USA'.\n",
    "- Calculate the mean of food consumption in the usa_consumption DataFrame, which is already created for you.\n",
    "- Calculate the median of food consumption in the usa_consumption DataFrame.\n",
    "\n",
    "```py\n",
    "import numpy as np\n",
    "\n",
    "# Subset country for USA: usa_consumption\n",
    "usa_consumption = food_consumption[food_consumption['country'] == 'USA']\n",
    "\n",
    "#Calculate mean consumption in USA\n",
    "print(usa_consumption['consumption'].mean())\n",
    "\n",
    "## Calculate median consumption in USA\n",
    "print(usa_consumption['consumption'].median())\n",
    "```"
   ]
  },
  {
   "cell_type": "markdown",
   "id": "b1363069",
   "metadata": {},
   "source": [
    "### PRACTICE TWO\n",
    "**Instrcution**\n",
    "- import matplotlib.pyplot with the alias plt.\n",
    "- Subset food_consumption to get the rows where food_category is 'rice'.\n",
    "- Create a histogram of co2_emission in rice_consumption DataFrame and show the plot.\n",
    "\n",
    "```py\n",
    "import matplotlib.ppylot as plt\n",
    "\n",
    "#Subset food_consumption to get the rows where food_category is 'rice'.\n",
    "rice_consumption = food_consumption[food_consumption['food_category'] === 'rice']\n",
    "\n",
    "#Create a histogram of co2_emission in rice_consumption DataFrame and show the plot\n",
    "rice_consumption['co2_emission'].hist()\n",
    "\n",
    "#show the plot\n",
    "plt.show()\n",
    "\n",
    "```"
   ]
  },
  {
   "cell_type": "code",
   "execution_count": null,
   "id": "ff271e82",
   "metadata": {},
   "outputs": [],
   "source": [
    "# Exercise \n",
    "\n",
    "#Question 1\n",
    "# Import matplotlib.pyplot with alias plt\n",
    "import matplotlib.pyplot as plt\n",
    "# Subset for food_category equals rice\n",
    "rice_consumption = food_consumption[food_consumption['food_category'] == 'rice']\n",
    "# Histogram of co2_emission for rice and show plot\n",
    "rice_consumption['co2_emission'].hist()\n",
    "plt.show()\n",
    "\n",
    "# Subset for food_category equals rice\n",
    "rice_consumption = food_consumption[food_consumption['food_category'] == 'rice']\n",
    "\n",
    "# Calculate mean and median of co2_emission with .agg()\n",
    "print(rice_consumption['co2_emission'].agg([np.mean, np.median]))\n",
    "\n"
   ]
  },
  {
   "cell_type": "markdown",
   "id": "c4c37ed9",
   "metadata": {},
   "source": [
    "### Measures of spread  "
   ]
  },
  {
   "cell_type": "code",
   "execution_count": null,
   "id": "11dbbe95",
   "metadata": {},
   "outputs": [],
   "source": [
    "# Exercises \n",
    "\n",
    "#Question1\n",
    "# Print variance and sd of co2_emission for each food_category\n",
    "print(food_consumption.groupby('food_category')['co2_emission'].agg([np.var, np.std]))\n",
    "\n",
    "# Create histogram of co2_emission for food_category 'beef'\n",
    "food_consumption[food_consumption['food_category'] == 'beef']['co2_emission'].hist()\n",
    "plt.show()\n",
    "\n",
    "# Create histogram of co2_emission for food_category 'eggs'\n",
    "plt.figure()\n",
    "food_consumption[food_consumption['food_category'] == 'eggs']['co2_emission'].hist()\n",
    "plt.show()\n",
    "\n",
    "#Question 2\n",
    "# Calculate the quartiles of co2_emission\n",
    "print(np.quantile(food_consumption['co2_emission'], [0, 0.25, 0.5, 0.75, 1]))\n",
    "\n",
    "# Calculate the quintiles of co2_emission\n",
    "print(np.quantile(food_consumption['co2_emission'], [0, 0.2, 0.4, 0.6, 0.8, 1]))\n",
    "\n",
    "print(np.quantile(food_consumption['co2_emission'], np.linspace(0, 1, 11)))\n",
    "\n",
    "\n",
    "#Question 3\n",
    "# Calculate total co2_emission per country: emissions_by_country\n",
    "emissions_by_country = food_consumption.groupby('country')['co2_emission'].sum()\n",
    "\n",
    "print(emissions_by_country)\n",
    "\n",
    "#Question 4\n",
    "# Calculate total co2_emission per country: emissions_by_country\n",
    "emissions_by_country = food_consumption.groupby('country')['co2_emission'].sum()\n",
    "\n",
    "# Compute the first and third quantiles and IQR of emissions_by_country\n",
    "q1 = np.quantile(emissions_by_country, 0.25)\n",
    "q3 = np.quantile(emissions_by_country, 0.75)\n",
    "iqr = q3 - q1\n",
    "\n",
    "# Calculate the lower and upper cutoffs for outliers\n",
    "lower = q1 - 1.5 * iqr\n",
    "upper = q3 + 1.5 * iqr\n",
    "\n",
    "# Subset emissions_by_country to find outliers\n",
    "outliers = outliers = emissions_by_country[(emissions_by_country < lower) | (emissions_by_country > upper)]\n",
    "print(outliers)"
   ]
  }
 ],
 "metadata": {
  "kernelspec": {
   "display_name": "ArewaDs",
   "language": "python",
   "name": "python3"
  },
  "language_info": {
   "name": "python",
   "version": "3.13.1"
  }
 },
 "nbformat": 4,
 "nbformat_minor": 5
}
