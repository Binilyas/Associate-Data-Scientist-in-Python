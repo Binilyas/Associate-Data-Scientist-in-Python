{
 "cells": [
  {
   "cell_type": "markdown",
   "id": "42567829",
   "metadata": {},
   "source": [
    "### INTRODUCTION TO STATISTIC IN PYTHON\n",
    "\n",
    "_What is Statistic?_: Is a Field of practice, study of collecting and analyzing data\n",
    "\n",
    "_Summary Statistic?_: Is the summary of the data like **mean**, **Average** Etc\n",
    "\n",
    "\n",
    "### TYPES OF STATISTIC\n",
    "- Descriptive Statistic\n",
    "- Inferential Statistic"
   ]
  },
  {
   "cell_type": "markdown",
   "id": "3d6d9f0a",
   "metadata": {},
   "source": [
    "**Descriptive vs. Inferential Statistics:** Descriptive statistics involve summarizing data from a sample, such as calculating the average or percentage. Inferential statistics use sample data to make generalizations about a larger population.\n",
    "\n",
    "**Types of Data:** Understanding the difference between numeric (quantitative) and categorical (qualitative) data is crucial. Numeric data can be continuous (measurable) or discrete (countable), while categorical data can be nominal (no inherent order) or ordinal (inherent order).\n",
    "\n",
    "**Data Representation:** Sometimes, categorical variables are represented using numbers, but this does not make them numeric variables. It's important to correctly identify data types to apply appropriate summary statistics and visualizations."
   ]
  },
  {
   "cell_type": "code",
   "execution_count": null,
   "id": "ff271e82",
   "metadata": {},
   "outputs": [],
   "source": [
    "# Exercise \n",
    "\n",
    "#Question 1\n",
    "# Import matplotlib.pyplot with alias plt\n",
    "import matplotlib.pyplot as plt\n",
    "# Subset for food_category equals rice\n",
    "rice_consumption = food_consumption[food_consumption['food_category'] == 'rice']\n",
    "# Histogram of co2_emission for rice and show plot\n",
    "rice_consumption['co2_emission'].hist()\n",
    "plt.show()\n",
    "\n",
    "# Subset for food_category equals rice\n",
    "rice_consumption = food_consumption[food_consumption['food_category'] == 'rice']\n",
    "\n",
    "# Calculate mean and median of co2_emission with .agg()\n",
    "print(rice_consumption['co2_emission'].agg([np.mean, np.median]))\n",
    "\n"
   ]
  },
  {
   "cell_type": "markdown",
   "id": "c4c37ed9",
   "metadata": {},
   "source": [
    "### Measures of spread  "
   ]
  },
  {
   "cell_type": "code",
   "execution_count": null,
   "id": "11dbbe95",
   "metadata": {},
   "outputs": [],
   "source": [
    "# Exercises \n",
    "\n",
    "#Question1\n",
    "# Print variance and sd of co2_emission for each food_category\n",
    "print(food_consumption.groupby('food_category')['co2_emission'].agg([np.var, np.std]))\n",
    "\n",
    "# Create histogram of co2_emission for food_category 'beef'\n",
    "food_consumption[food_consumption['food_category'] == 'beef']['co2_emission'].hist()\n",
    "plt.show()\n",
    "\n",
    "# Create histogram of co2_emission for food_category 'eggs'\n",
    "plt.figure()\n",
    "food_consumption[food_consumption['food_category'] == 'eggs']['co2_emission'].hist()\n",
    "plt.show()\n",
    "\n",
    "#Question 2\n",
    "# Calculate the quartiles of co2_emission\n",
    "print(np.quantile(food_consumption['co2_emission'], [0, 0.25, 0.5, 0.75, 1]))\n",
    "\n",
    "# Calculate the quintiles of co2_emission\n",
    "print(np.quantile(food_consumption['co2_emission'], [0, 0.2, 0.4, 0.6, 0.8, 1]))\n",
    "\n",
    "print(np.quantile(food_consumption['co2_emission'], np.linspace(0, 1, 11)))\n",
    "\n",
    "\n",
    "#Question 3\n",
    "# Calculate total co2_emission per country: emissions_by_country\n",
    "emissions_by_country = food_consumption.groupby('country')['co2_emission'].sum()\n",
    "\n",
    "print(emissions_by_country)\n",
    "\n",
    "#Question 4\n",
    "# Calculate total co2_emission per country: emissions_by_country\n",
    "emissions_by_country = food_consumption.groupby('country')['co2_emission'].sum()\n",
    "\n",
    "# Compute the first and third quantiles and IQR of emissions_by_country\n",
    "q1 = np.quantile(emissions_by_country, 0.25)\n",
    "q3 = np.quantile(emissions_by_country, 0.75)\n",
    "iqr = q3 - q1\n",
    "\n",
    "# Calculate the lower and upper cutoffs for outliers\n",
    "lower = q1 - 1.5 * iqr\n",
    "upper = q3 + 1.5 * iqr\n",
    "\n",
    "# Subset emissions_by_country to find outliers\n",
    "outliers = outliers = emissions_by_country[(emissions_by_country < lower) | (emissions_by_country > upper)]\n",
    "print(outliers)"
   ]
  }
 ],
 "metadata": {
  "kernelspec": {
   "display_name": "ArewaDS",
   "language": "python",
   "name": "python3"
  },
  "language_info": {
   "name": "python",
   "version": "3.13.1"
  }
 },
 "nbformat": 4,
 "nbformat_minor": 5
}
