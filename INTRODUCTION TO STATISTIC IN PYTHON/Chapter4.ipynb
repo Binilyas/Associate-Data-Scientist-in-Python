{
 "cells": [
  {
   "cell_type": "markdown",
   "id": "ebb3bd2f",
   "metadata": {},
   "source": [
    "#### Corrolation"
   ]
  },
  {
   "cell_type": "code",
   "execution_count": null,
   "id": "8608bbf9",
   "metadata": {},
   "outputs": [],
   "source": [
    "# Exercise\n",
    "#Question 1\n",
    "# Create a scatterplot of happiness_score vs. life_exp and show\n",
    "sns.scatterplot(x='life_exp', y='happiness_score', data=world_happiness)\n",
    "\n",
    "# Show plot\n",
    "plt.show()\n",
    "\n",
    "# Create scatterplot of happiness_score vs life_exp with trendline\n",
    "sns.lmplot(x='life_exp', y='happiness_score', data=world_happiness, ci=None)\n",
    "\n",
    "# Show plot\n",
    "plt.show()\n",
    "\n",
    "# Create scatterplot of happiness_score vs life_exp with trendline\n",
    "sns.lmplot(x='life_exp', y='happiness_score', data=world_happiness, ci=None)\n",
    "\n",
    "# Show plot\n",
    "plt.show()\n",
    "\n",
    "# Correlation between life_exp and happiness_score\n",
    "cor = world_happiness['life_exp'].corr(world_happiness['happiness_score'])\n",
    "\n",
    "print(cor)"
   ]
  },
  {
   "cell_type": "markdown",
   "id": "0fc21c0c",
   "metadata": {},
   "source": [
    "#### Corrolation Caveat"
   ]
  },
  {
   "cell_type": "code",
   "execution_count": null,
   "id": "096ebfc0",
   "metadata": {},
   "outputs": [],
   "source": [
    "# Execise\n",
    "#Question 1\n",
    "# Scatterplot of gdp_per_cap and life_exp\n",
    "sns.scatterplot(x='gdp_per_cap', y='life_exp', data=world_happiness)\n",
    "# Show plot\n",
    "plt.show()\n",
    "\n",
    "# Correlation between gdp_per_cap and life_exp\n",
    "cor = world_happiness['gdp_per_cap'].corr(world_happiness['life_exp'])\n",
    "\n",
    "print(cor)\n",
    "\n",
    "#Question 2\n",
    "# Scatterplot of happiness_score vs. gdp_per_cap\n",
    "sns.scatterplot(x='gdp_per_cap', y='happiness_score', data=world_happiness)\n",
    "plt.show()\n",
    "\n",
    "\n",
    "import numpy as np\n",
    "import seaborn as sns\n",
    "import matplotlib.pyplot as plt\n",
    "\n",
    "# Example of using np.log to create a new column\n",
    "world_happiness['log_gdp_per_cap'] = np.log(world_happiness['gdp_per_cap'])\n",
    "\n",
    "# Example of creating a scatterplot with seaborn\n",
    "sns.scatterplot(x='log_gdp_per_cap', y='happiness_score', data=world_happiness)\n",
    "plt.show()\n",
    "\n",
    "# Example of calculating correlation\n",
    "cor = world_happiness['log_gdp_per_cap'].corr(world_happiness['happiness_score'])\n",
    "print(cor)\n",
    "# Calculate correlation\n",
    "cor = world_happiness['gdp_per_cap'].corr(world_happiness['happiness_score'])\n",
    "print(cor)\n",
    "\n",
    "#Question 3\n",
    "# Scatterplot of grams_sugar_per_day and happiness_score\n",
    "sns.scatterplot(x='grams_sugar_per_day', y='happiness_score', data=world_happiness)\n",
    "plt.show()\n",
    "\n",
    "# Correlation between grams_sugar_per_day and happiness_score\n",
    "cor = world_happiness['grams_sugar_per_day'].corr(world_happiness['happiness_score'])\n",
    "print(cor)"
   ]
  },
  {
   "cell_type": "markdown",
   "id": "dd223a59",
   "metadata": {},
   "source": [
    "#### Design Experiment"
   ]
  },
  {
   "cell_type": "code",
   "execution_count": null,
   "id": "a6f61f75",
   "metadata": {},
   "outputs": [],
   "source": [
    "# Exercise\n",
    "#Question 1\n"
   ]
  }
 ],
 "metadata": {
  "language_info": {
   "name": "python"
  }
 },
 "nbformat": 4,
 "nbformat_minor": 5
}
