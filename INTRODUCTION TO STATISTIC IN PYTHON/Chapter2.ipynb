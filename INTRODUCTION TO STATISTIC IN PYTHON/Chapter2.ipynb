{
 "cells": [
  {
   "cell_type": "markdown",
   "id": "988b950d",
   "metadata": {},
   "source": [
    "### What are Chances?"
   ]
  },
  {
   "cell_type": "code",
   "execution_count": null,
   "id": "2e615ec9",
   "metadata": {},
   "outputs": [],
   "source": [
    "# Exercise\n",
    "# Question 1\n",
    "# Count the deals for each product\n",
    "counts = amir_deals['product'].value_counts()\n",
    "print(counts)\n",
    "# Calculate probability of picking a deal with each product\n",
    "probs = counts / amir_deals.shape[0]\n",
    "print(probs)\n",
    "\n",
    "#Question 2\n",
    "# Set random seed\n",
    "np.random.seed(24)\n",
    "\n",
    "# Sample 5 deals without replacement\n",
    "sample_without_replacement = amir_deals.sample(5)\n",
    "print(sample_without_replacement)\n",
    "# Set random seed\n",
    "np.random.seed(24)\n",
    "\n",
    "# Sample 5 deals with replacement\n",
    "sample_with_replacement = amir_deals.sample(5, replace=True)\n",
    "print(sample_with_replacement)"
   ]
  },
  {
   "cell_type": "markdown",
   "id": "2ed9ad0e",
   "metadata": {},
   "source": [
    "#### DISCRETE DISTRIBUTION\n"
   ]
  },
  {
   "cell_type": "code",
   "execution_count": null,
   "id": "fe615949",
   "metadata": {},
   "outputs": [],
   "source": [
    "# Question\n",
    "# Create a histogram of restaurant_groups and show plot\n",
    "restaurant_groups['group_size'].hist(bins=[2, 3, 4, 5, 6])\n",
    "plt.show()\n",
    "\n",
    "# Create probability distribution\n",
    "size_dist = restaurant_groups['group_size'].value_counts() / restaurant_groups.shape[0]\n",
    "\n",
    "# Reset index and rename columns\n",
    "size_dist = size_dist.reset_index()\n",
    "size_dist.columns = ['group_size', 'prob']\n",
    "\n",
    "print(size_dist)\n",
    "\n",
    "# Calculate expected value\n",
    "expected_value = expected_value = np.sum(size_dist['group_size'] * size_dist['prob'])\n",
    "print(expected_value)\n",
    "\n",
    "# Sum the probabilities of groups_4_or_more\n",
    "# Sum the probabilities of groups_4_or_more\n",
    "prob_4_or_more = np.sum(groups_4_or_more['prob'])\n",
    "groups_4_or_more = size_dist\n",
    "print(prob_4_or_more)"
   ]
  },
  {
   "cell_type": "markdown",
   "id": "9ca0c001",
   "metadata": {},
   "source": [
    "### Continous Distribution\n"
   ]
  },
  {
   "cell_type": "code",
   "execution_count": null,
   "id": "69eaa85b",
   "metadata": {},
   "outputs": [
    {
     "name": "stdout",
     "output_type": "stream",
     "text": [
      "0.16666666666666666\n",
      "0.8333333333333334\n"
     ]
    }
   ],
   "source": [
    "# Question 1\n",
    "# Min and max wait times for back-up that happens every 30 min\n",
    "min_time = 0\n",
    "max_time = 30\n",
    "\n",
    "# Import uniform from scipy.stats\n",
    "from scipy.stats import uniform\n",
    "\n",
    "# Calculate probability of waiting less than 5 mins\n",
    "prob_less_than_5 = uniform.cdf(5, min_time, max_time)\n",
    "print(prob_less_than_5)\n",
    "\n",
    "# Calculate probability of waiting more than 5 mins\n",
    "prob_greater_than_5 = 1 - uniform.cdf(5, min_time, max_time)\n",
    "print(prob_greater_than_5)\n",
    "\n",
    "# Calculate probability of waiting 10-20 mins\n",
    "prob_between_10_and_20 = uniform.cdf(20, min_time, max_time) - uniform.cdf(10, min_time, max_time)\n",
    "print(prob_between_10_and_20)\n",
    "\n",
    "# Set random seed to 334\n",
    "np.random.seed(334)\n",
    "# Import uniform\n",
    "import scipy.stats as uniform\n",
    "\n",
    "# Generate 1000 wait times between 0 and 30 mins\n",
    "wait_times = uniform.rvs(0, 30, size=1000)\n",
    "print(wait_times)\n",
    "# Create a histogram of simulated times and show plot\n",
    "plt.hist(wait_times)\n",
    "plt.show()"
   ]
  },
  {
   "cell_type": "markdown",
   "id": "9dc3dca7",
   "metadata": {},
   "source": [
    "#### Binomial Distribution\n"
   ]
  },
  {
   "cell_type": "code",
   "execution_count": 9,
   "id": "617af75e",
   "metadata": {},
   "outputs": [
    {
     "name": "stdout",
     "output_type": "stream",
     "text": [
      "[1]\n",
      "[0]\n",
      "0.8269230769230769\n",
      "0.026999999999999996\n",
      "0.784\n",
      "0.21599999999999997\n",
      "0.8999999999999999\n",
      "0.75\n",
      "1.0499999999999998\n"
     ]
    }
   ],
   "source": [
    "import numpy as np\n",
    "import pandas as pd\n",
    "# Exercise\n",
    "# Question 1\n",
    "# Import binom from scipy.stats\n",
    "from scipy.stats import binom\n",
    "\n",
    "# Set random seed to 10\n",
    "np.random.seed(10)\n",
    "\n",
    "# Simulate a single deal\n",
    "print(binom.rvs(1, 0.3, size=1))\n",
    "# Simulate 1 week of 3 deals\n",
    "print(binom.rvs(3, 0.3, size=1))\n",
    "\n",
    "deals = deals = binom.rvs(3, 0.3, size=52)\n",
    "\n",
    "# Print mean deals won per week\n",
    "# Import necessary libraries\n",
    "from scipy.stats import binom\n",
    "import numpy as np\n",
    "\n",
    "# Set random seed for reproducibility\n",
    "np.random.seed(10)\n",
    "\n",
    "# Simulate 52 weeks of 3 deals\n",
    "# Use the binom.rvs function to simulate the deals\n",
    "deals = binom.rvs(3, 0.3, size=52)\n",
    "\n",
    "# Print mean deals won per week\n",
    "print(np.mean(deals))\n",
    "\n",
    "\n",
    "#Question 2\n",
    "# Probability of closing 3 out of 3 deals\n",
    "prob_3 = binom.pmf(3, 3, 0.3)\n",
    "\n",
    "print(prob_3)\n",
    "\n",
    "# Probability of closing <= 1 deal out of 3 deals\n",
    "prob_less_than_or_equal_1 = binom.cdf(1, 3, 0.3)\n",
    "\n",
    "print(prob_less_than_or_equal_1)\n",
    "\n",
    "# Probability of closing > 1 deal out of 3 deals\n",
    "prob_greater_than_1 = 1 - binom.cdf(1, 3, 0.3)\n",
    "print(prob_greater_than_1)\n",
    "\n",
    "\n",
    "#Question 3\n",
    "# Expected number won with 30% win rate\n",
    "won_30pct = won_30pct = 3 * 0.3\n",
    "print(won_30pct)\n",
    "\n",
    "# Expected number won with 25% win rate\n",
    "won_25pct = won_25pct = 3 * 0.25\n",
    "print(won_25pct)\n",
    "\n",
    "# Expected number won with 35% win rate\n",
    "won_35pct = won_35pct = 3 * 0.35\n",
    "print(won_35pct)"
   ]
  }
 ],
 "metadata": {
  "kernelspec": {
   "display_name": "ArewaDS",
   "language": "python",
   "name": "python3"
  },
  "language_info": {
   "codemirror_mode": {
    "name": "ipython",
    "version": 3
   },
   "file_extension": ".py",
   "mimetype": "text/x-python",
   "name": "python",
   "nbconvert_exporter": "python",
   "pygments_lexer": "ipython3",
   "version": "3.13.1"
  }
 },
 "nbformat": 4,
 "nbformat_minor": 5
}
