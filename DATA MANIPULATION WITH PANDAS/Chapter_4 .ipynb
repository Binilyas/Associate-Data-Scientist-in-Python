{
 "cells": [
  {
   "cell_type": "markdown",
   "metadata": {},
   "source": [
    "### **Visulazing your data**\n",
    "#### **Excercise**"
   ]
  },
  {
   "cell_type": "code",
   "execution_count": null,
   "metadata": {},
   "outputs": [],
   "source": [
    "#Question 1\n",
    "# Import matplotlib.pyplot with alias plt\n",
    "import matplotlib.pyplot as plt\n",
    "\n",
    "# Look at the first few rows of data\n",
    "print(avocados.head())\n",
    "\n",
    "# Get the total number of avocados sold of each size\n",
    "nb_sold_by_size = avocados.groupby('size')['nb_sold'].sum()\n",
    "\n",
    "# Create a bar plot of the number of avocados sold by size\n",
    "nb_sold_by_size.plot(kind='bar', color=['blue', 'orange', 'green'])\n",
    "\n",
    "# Show the plot\n",
    "plt.show()\n",
    "\n",
    "#Question 2\n",
    "# Import matplotlib.pyplot with alias plt\n",
    "import matplotlib.pyplot as plt\n",
    "\n",
    "# Get the total number of avocados sold on each date\n",
    "nb_sold_by_date = avocados.groupby('date')['nb_sold'].sum()\n",
    "\n",
    "# Create a line plot of the number of avocados sold by date\n",
    "nb_sold_by_date.plot(kind='line', color='blue')\n",
    "\n",
    "# Show the plot\n",
    "plt.show()\n",
    "\n",
    "#Question 3\n",
    "# Scatter plot of nb_sold vs. avg_price with title\n",
    "avocados.plot(x='nb_sold', y='avg_price', title = \"Number of avocados sold vs. average price\", kind = \"scatter\")\n",
    "\n",
    "# Show the plot\n",
    "plt.show()\n",
    "\n",
    "#Question 4\n",
    "# Histogram of conventional avg_price \n",
    "avocados[avocados['type'] == 'conventional']['avg_price'].plot(kind='hist', alpha=0.5, color='blue', label='Conventional')\n",
    "\n",
    "# Histogram of organic avg_price\n",
    "avocados[avocados['type'] == 'organic']['avg_price'].plot(kind='hist', alpha=0.5, color='orange', label='Organic')\n",
    "\n",
    "# Add a legend\n",
    "plt.legend(['Conventional', 'Organic'])\n",
    "\n",
    "# Show the plot\n",
    "plt.show()"
   ]
  },
  {
   "cell_type": "markdown",
   "metadata": {},
   "source": [
    "### **Missing Values**\n",
    "#### **Excersie**\n"
   ]
  },
  {
   "cell_type": "code",
   "execution_count": null,
   "metadata": {},
   "outputs": [],
   "source": [
    "# Question 1\n",
    "# Import matplotlib.pyplot with alias plt\n",
    "import matplotlib.pyplot as plt\n",
    "\n",
    "# Check whether each value in avocados_2016 is missing or not\n",
    "print(avocados_2016.isna())\n",
    "\n",
    "# Summary of whether any value in each column is missing or not\n",
    "print(avocados_2016.isna().any(axis=0))\n",
    "\n",
    "# Bar plot of the total number of missing values in each column\n",
    "avocados_2016.isna().sum().plot(kind='bar', color='blue')\n",
    "\n",
    "# Show plot\n",
    "plt.show() \n",
    "\n",
    "# Question 2\n",
    "# Remove rows with missing values\n",
    "avocados_complete = avocados_2016.dropna()\n",
    "\n",
    "# Check if any columns contain missing values\n",
    "print(avocados_complete.isna().any())\n",
    "\n",
    "# Question 3\n",
    "# List the columns with missing values\n",
    "cols_with_missing = [\"small_sold\", \"large_sold\", \"xl_sold\"]\n",
    "\n",
    "# Create histograms showing the distributions cols_with_missing\n",
    "avocados_2016[cols_with_missing].hist(bins=30, color='blue', alpha=0.5)\n",
    "\n",
    "# Show the plot\n",
    "plt.show()\n",
    "\n",
    "# Question 4\n",
    "# From previous step\n",
    "cols_with_missing = [\"small_sold\", \"large_sold\", \"xl_sold\"]\n",
    "avocados_2016[cols_with_missing].hist()\n",
    "plt.show()\n",
    "\n",
    "# Fill in missing values with 0\n",
    "avocados_filled = avocados_2016.fillna(0)\n",
    "\n",
    "# Create histograms of the filled columns\n",
    "avocados_filled[cols_with_missing].hist(bins=30, color='blue', alpha=0.5)\n",
    "\n",
    "# Show the plot\n",
    "plt.show()"
   ]
  },
  {
   "cell_type": "markdown",
   "metadata": {},
   "source": [
    "### Creating A data Frame\n",
    "#### **Exersice**\n"
   ]
  },
  {
   "cell_type": "markdown",
   "metadata": {},
   "source": [
    "First in creating a data frame they a two general method\n",
    "\n",
    "1. from existing dictornaries\n",
    "2. And from List of dictornaries"
   ]
  },
  {
   "cell_type": "code",
   "execution_count": 2,
   "metadata": {},
   "outputs": [
    {
     "name": "stdout",
     "output_type": "stream",
     "text": [
      "Charlotte's Web\n"
     ]
    }
   ],
   "source": [
    "my_dict = {\"title\": \"Charlotte's Web\", \"author\": \"E.B. White\", \"published\": 1952, \"pages\": 192}\n",
    "print(my_dict[\"title\"])"
   ]
  },
  {
   "cell_type": "code",
   "execution_count": null,
   "metadata": {},
   "outputs": [
    {
     "name": "stdout",
     "output_type": "stream",
     "text": [
      "         date small_sold large_sold    large\n",
      "0  2019-11-03   10376832    7835071      NaN\n",
      "1        1998   10717154        NaN  8561348\n",
      "         date  small_sold  large_sold\n",
      "0  2019-11-17    10859987     7674135\n",
      "1  2019-12-01     9291631     6238096\n"
     ]
    }
   ],
   "source": [
    "import pandas as pd\n",
    "# Question 1\n",
    "# Create a list of dictionaries with new data\n",
    "avocados_list = [\n",
    "    {\"date\": \"2019-11-03\", \"small_sold\": \"10376832\", \"large_sold\": \"7835071\"},\n",
    "    {\"date\": 2019-11-10, \"small_sold\": \"10717154\", \"large\": \"8561348\"},\n",
    "]\n",
    "\n",
    "# Convert list into DataFrame\n",
    "avocados_2019 = pd.DataFrame(avocados_list)\n",
    "\n",
    "# Print the new DataFrame\n",
    "print(avocados_2019)\n",
    "\n",
    "\n",
    "#question 2\n",
    "# Create a list of dictionaries with new data\n",
    "# Create a dictionary of lists with new data\n",
    "avocados_dict = {\n",
    "    \"date\":[\"2019-11-17\", \"2019-12-01\"],\n",
    "    \"small_sold\": [10859987, 9291631],\n",
    "    \"large_sold\": [7674135, 6238096]\n",
    "}\n",
    "\n",
    "# Convert dictionary into DataFrame\n",
    "avocados_2019 = pd.DataFrame(avocados_dict)\n",
    "\n",
    "# Print the new DataFrame\n",
    "print(avocados_2019)\n",
    "\n",
    "# Question 3\n",
    "# Read CSV as DataFrame called airline_bumping\n",
    "airline_bumping = pd.read_csv(\"airline_bumping.csv\")\n",
    "\n",
    "# Take a look at the DataFrame\n",
    "print(airline_bumping)\n",
    "\n",
    "# Question 4\n",
    "# From previous step\n",
    "airline_bumping = pd.read_csv(\"airline_bumping.csv\")\n",
    "print(airline_bumping.head())\n",
    "\n",
    "# For each airline, select nb_bumped and total_passengers and sum\n",
    "airline_totals = airline_bumping.groupby('airline')[['nb_bumped', 'total_passengers']].sum()\n",
    "\n",
    "# Question 5\n",
    "# From previous steps\n",
    "airline_bumping = pd.read_csv(\"airline_bumping.csv\")\n",
    "print(airline_bumping.head())\n",
    "airline_totals = airline_bumping.groupby(\"airline\")[[\"nb_bumped\", \"total_passengers\"]].sum()\n",
    "\n",
    "# Create new col, bumps_per_10k: no. of bumps per 10k passengers for each airline\n",
    "airline_totals[\"bumps_per_10k\"] = airline_totals[\"nb_bumped\"] / airline_totals[\"total_passengers\"] * 10000\n",
    "\n",
    "\n",
    "#Question 6\n",
    "# From previous steps\n",
    "airline_bumping = pd.read_csv(\"airline_bumping.csv\")\n",
    "print(airline_bumping.head())\n",
    "airline_totals = airline_bumping.groupby(\"airline\")[[\"nb_bumped\", \"total_passengers\"]].sum()\n",
    "airline_totals[\"bumps_per_10k\"] = airline_totals[\"nb_bumped\"] / airline_totals[\"total_passengers\"] * 10000\n",
    "\n",
    "# Print airline_totals\n",
    "print(airline_totals)\n",
    "\n",
    "#question 7\n",
    "# Create airline_totals_sorted\n",
    "airline_totals_sorted = airline_totals.sort_values(\"bumps_per_10k\", ascending=False)\n",
    "\n",
    "# Print airline_totals_sorted\n",
    "print(airline_totals_sorted)\n",
    "\n",
    "# Save as airline_totals_sorted.csv\n",
    "airline_totals_sorted.to_csv(\"airline_totals_sorted.csv\")"
   ]
  }
 ],
 "metadata": {
  "kernelspec": {
   "display_name": "ArewaDS",
   "language": "python",
   "name": "python3"
  },
  "language_info": {
   "codemirror_mode": {
    "name": "ipython",
    "version": 3
   },
   "file_extension": ".py",
   "mimetype": "text/x-python",
   "name": "python",
   "nbconvert_exporter": "python",
   "pygments_lexer": "ipython3",
   "version": "3.13.1"
  }
 },
 "nbformat": 4,
 "nbformat_minor": 2
}
