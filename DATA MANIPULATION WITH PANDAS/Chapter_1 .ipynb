{
 "cells": [
  {
   "cell_type": "markdown",
   "metadata": {},
   "source": [
    "## **SORTING AND SUBSETTING**\n",
    "\n",
    "### _Subseting_\n",
    "You can sort a data by using a sort_value method follow ny the column you want to sortby. for exanmple\n",
    "\n",
    "```py\n",
    "dogs.sort_values(\"weight_height\")\n",
    "```\n",
    "\n",
    "In above example the name of the is **dogs** and **sort_values** is the method while **(\"weight_height\")** is the column of you weant to sort by\n",
    "\n",
    "\n",
    "You can also sort in decending others for example\n",
    "```py\n",
    "dogs.sort_values(\"weight_height\", accending = False)\n",
    "```\n",
    "\n",
    "Also we can sort multiple column by using multiple column name on the list for example\n",
    "\n",
    "```py\n",
    "dogs.sort_values([\"weight_height\", \"height\"], accending = [True, False])\n",
    "```\n",
    "### _Substting_\n",
    "subsetting is used to view or zoom part of the data for example \n",
    "\n",
    "```py\n",
    "dogs[\"Name\"] # In data frame\n",
    "# To subset\n",
    "dogs[[\"Name\"]]\n",
    "```\n",
    "The **dogs** is the file name while the **[\"Name\"]** is the name of the column\n",
    "\n",
    "You can also use select multiple column name using two prentesis for example\n",
    "\n",
    "```py\n",
    "dogs[[\"Name\", \"weight_kg\", \"height_kg\"]]\n",
    "```\n",
    "```py\n",
    "Also you can re-write this code in this ways \n",
    "col_to_subset = dogs[\"name\", \"weight_kg\", \"height\"]\n",
    "dogs[col_to_subset]\n",
    "```\n",
    "\n",
    "#### **Practice**"
   ]
  },
  {
   "cell_type": "code",
   "execution_count": null,
   "metadata": {},
   "outputs": [],
   "source": [
    "# Sort homelessness by individuals\n",
    "homelessness_ind = homelessness.sort_values(\"individuals\")\n",
    "\n",
    "# Print the top few rows\n",
    "print(homelessness_ind.head)\n",
    "\n",
    "# Sort homelessness by descending family members\n",
    "# Sort homelessness by region, then descending family members\n",
    "homelessness_reg_fam = homelessness.sort_values([\"region\", \"family_members\"], ascending = [True, False])\n",
    "\n",
    "# Print the top few rows\n",
    "print(homelessness_reg_fam.head())\n",
    "\n",
    "# Filter for rows where individuals is greater than 10000\n",
    "ind_gt_10k = homelessness[\"individuals\"] > 10000\n",
    "\n",
    "# See the result\n",
    "print(ind_gt_10k)\n"
   ]
  },
  {
   "cell_type": "code",
   "execution_count": null,
   "metadata": {},
   "outputs": [],
   "source": [
    "# Filter for rows where region is Mountain\n",
    "mountain_reg = homelessness[\"region\"] == \"Mountain\"\n",
    "# See the result\n",
    "\n",
    "print(mountain_reg)"
   ]
  },
  {
   "cell_type": "code",
   "execution_count": null,
   "metadata": {},
   "outputs": [],
   "source": [
    "# Filter for rows where individuals is greater than 10000\n",
    "ind_gt_10k = homelessness[homelessness[\"individuals\"] > 10000]\n",
    "\n",
    "# See the result\n",
    "print(ind_gt_10k)"
   ]
  },
  {
   "cell_type": "code",
   "execution_count": null,
   "metadata": {},
   "outputs": [],
   "source": [
    "# Filter for rows where family_members is less than 1000 \n",
    "# and region is Pacific\n",
    "fam_lt_1k_pac = homelessness[(homelessness[\"family_members\"] < 1000) & (homelessness[\"region\"] == \"Pacific\")]\n",
    "\n",
    "# See the result\n",
    "print(fam_lt_1k_pac)"
   ]
  },
  {
   "cell_type": "code",
   "execution_count": null,
   "metadata": {},
   "outputs": [],
   "source": [
    "# The Mojave Desert states\n",
    "canu = [\"California\", \"Arizona\", \"Nevada\", \"Utah\"]\n",
    "\n",
    "# Filter for rows in the Mojave Desert states\n",
    "mojave_homelessness = homelessness[homelessness[\"state\"].isin(canu)]\n",
    "\n",
    "# See the result\n",
    "print(mojave_homelessness)"
   ]
  },
  {
   "cell_type": "markdown",
   "metadata": {},
   "source": [
    "### **NEW COLUMN**\n"
   ]
  }
 ],
 "metadata": {
  "kernelspec": {
   "display_name": "ArewaDS",
   "language": "python",
   "name": "python3"
  },
  "language_info": {
   "name": "python",
   "version": "3.13.1"
  }
 },
 "nbformat": 4,
 "nbformat_minor": 2
}
