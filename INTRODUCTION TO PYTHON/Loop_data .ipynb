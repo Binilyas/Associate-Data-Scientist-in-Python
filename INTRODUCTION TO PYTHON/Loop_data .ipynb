{
 "cells": [
  {
   "cell_type": "markdown",
   "metadata": {},
   "source": [
    "## LOOP THROUGH  DATA STRUCTURE PART 1"
   ]
  },
  {
   "cell_type": "markdown",
   "metadata": {},
   "source": [
    "\n",
    "### Suppose you have a data Structure in the dictornarie containing key and items, you want to print corresponding key with the value. the easiest way is using _for loop_ to loop through the dictomaries for Example\n",
    "```py\n",
    "#Country Data \n",
    "world = {\"afighanistan\": 30.55, \"albania\": 2.77, \"algeria\": 39.21}\n",
    "\n",
    "#Looping through the dictionary\n",
    " for key, value in world.items():\n",
    "    print(key + \"---\" + str(value))\n",
    "```\n",
    "\n",
    "_The Above line of code:_ **The _for_ is called for loop, looping through the key, and value in world because the data is store in world**"
   ]
  },
  {
   "cell_type": "code",
   "execution_count": 8,
   "metadata": {},
   "outputs": [
    {
     "name": "stdout",
     "output_type": "stream",
     "text": [
      "afighanistan --- 30.55\n",
      "albania --- 2.77\n",
      "algeria --- 39.21\n"
     ]
    }
   ],
   "source": [
    "#Country Data \n",
    "world = {\"afighanistan\": 30.55, \"albania\": 2.77, \"algeria\": 39.21}\n",
    "\n",
    "#Looping through the dictionary\n",
    "for k, val in world.items():\n",
    "  print(k + \" --- \" + str(val))"
   ]
  },
  {
   "cell_type": "markdown",
   "metadata": {},
   "source": [
    "### FOR NUMPY ARRAY\n",
    "```py\n",
    "np_height = np.array([1.73, 1.68, 1.71, 1.89, 1.79])\n",
    "np_weight = np.array([65.4, 59.2, 63.6, 88.4, 68.7])\n",
    "\n",
    "bmi = np_weight / np_height ** 2\n",
    "\n",
    "# Looping through the bmi\n",
    "for value in bmi:\n",
    "    print(value)\n",
    "```"
   ]
  },
  {
   "cell_type": "code",
   "execution_count": 10,
   "metadata": {},
   "outputs": [
    {
     "name": "stdout",
     "output_type": "stream",
     "text": [
      "21.85171572722109\n",
      "20.97505668934241\n",
      "21.750282138093777\n",
      "24.74734749867025\n",
      "21.44127836209856\n"
     ]
    }
   ],
   "source": [
    "import numpy as np  # Importing numpy\n",
    "\n",
    "np_height = np.array([1.73, 1.68, 1.71, 1.89, 1.79])\n",
    "np_weight = np.array([65.4, 59.2, 63.6, 88.4, 68.7])\n",
    "\n",
    "bmi = np_weight / np_height ** 2\n",
    "\n",
    "# Looping through the bmi\n",
    "for value in bmi:\n",
    "    print(value)"
   ]
  },
  {
   "cell_type": "markdown",
   "metadata": {},
   "source": [
    "### 2D Numpy Array using _For Lopop_\n",
    "```py\n",
    "np_height = np.array([1.73, 1.68, 1.71, 1.89, 1.79])\n",
    "np_weight = np.array([65.4, 59.2, 63.6, 88.4, 68.7])\n",
    "\n",
    "meas = np.array([np_height, np_weight])\n",
    "\n",
    "#Looping Through the 2d array \n",
    "for val in meas:\n",
    "    print(val)\n",
    "\n",
    "\n",
    "#The Get single element in the 2d array make use of numpy function called nditer\n",
    "\n",
    "for val in np.nditer(meas):\n",
    "    print(val)\n",
    "```"
   ]
  },
  {
   "cell_type": "code",
   "execution_count": 12,
   "metadata": {},
   "outputs": [
    {
     "name": "stdout",
     "output_type": "stream",
     "text": [
      "[1.73 1.68 1.71 1.89 1.79]\n",
      "[65.4 59.2 63.6 88.4 68.7]\n",
      "1.73\n",
      "1.68\n",
      "1.71\n",
      "1.89\n",
      "1.79\n",
      "65.4\n",
      "59.2\n",
      "63.6\n",
      "88.4\n",
      "68.7\n"
     ]
    }
   ],
   "source": [
    "np_height = np.array([1.73, 1.68, 1.71, 1.89, 1.79])\n",
    "np_weight = np.array([65.4, 59.2, 63.6, 88.4, 68.7])\n",
    "\n",
    "meas = np.array([np_height, np_weight])\n",
    "\n",
    "#Looping Through the 2d array \n",
    "for val in meas:\n",
    "    print(val)\n",
    "\n",
    "\n",
    "#The Get single element in the 2d array make use of numpy function called nditer\n",
    "\n",
    "for val in np.nditer(meas):\n",
    "    print(val)"
   ]
  },
  {
   "cell_type": "markdown",
   "metadata": {},
   "source": [
    "## EXCERCISE"
   ]
  },
  {
   "cell_type": "code",
   "execution_count": 19,
   "metadata": {},
   "outputs": [
    {
     "name": "stdout",
     "output_type": "stream",
     "text": [
      "the capital of spain is madrid\n",
      "the capital of france is paris\n",
      "the capital of germany is berlin\n",
      "the capital of norway is oslo\n",
      "the capital of italy is rome\n",
      "the capital of poland is warsaw\n",
      "the capital of austria is vienna\n"
     ]
    }
   ],
   "source": [
    "# Definition of dictionary\n",
    "europe = {'spain':'madrid', 'france':'paris', 'germany':'berlin',\n",
    "          'norway':'oslo', 'italy':'rome', 'poland':'warsaw', 'austria':'vienna' }\n",
    "          \n",
    "# Iterate over europe\n",
    "for key, value in europe.items():\n",
    "    print('the capital of', key + ' is', value)"
   ]
  },
  {
   "cell_type": "code",
   "execution_count": 20,
   "metadata": {},
   "outputs": [
    {
     "name": "stdout",
     "output_type": "stream",
     "text": [
      "1.73 inches\n",
      "1.68 inches\n",
      "1.71 inches\n",
      "1.89 inches\n",
      "1.79 inches\n",
      "1.73\n",
      "1.68\n",
      "1.71\n",
      "1.89\n",
      "1.79\n",
      "65.4\n",
      "59.2\n",
      "63.6\n",
      "88.4\n",
      "68.7\n"
     ]
    }
   ],
   "source": [
    "# Import numpy as np\n",
    "import numpy as np\n",
    "\n",
    "# For loop over np_height\n",
    "for val in np_height:\n",
    "    print(str(val) + \" inches\")\n",
    "\n",
    "# For loop over np_baseball\n",
    "for val in np.nditer(meas):\n",
    "    print(val)"
   ]
  },
  {
   "cell_type": "markdown",
   "metadata": {},
   "source": [
    "## LOOP DATA STRUCTURE PART 2"
   ]
  },
  {
   "cell_type": "markdown",
   "metadata": {},
   "source": [
    "### USING COUNTRY BRICK DATASET TO\n",
    "\n",
    "```py\n",
    "# Import pandas\n",
    "import pandas as pd\n",
    " # Import the dataset using pandas \n",
    "brick = pd.read_csv('brick.csv', index_col = 0)\n",
    "print(brick)\n",
    "\n",
    "```\n"
   ]
  },
  {
   "cell_type": "code",
   "execution_count": 11,
   "metadata": {},
   "outputs": [
    {
     "name": "stdout",
     "output_type": "stream",
     "text": [
      "         country    capital    area  population\n",
      "BR        Brazil   Brasilia   8.516      200.40\n",
      "RU        Russia     Moscow  17.100      143.50\n",
      "IN         India  New Delhi   3.286     1252.00\n",
      "CH         China    Beijing   9.597     1357.00\n",
      "SA  South Africa   Pretoria   1.221       52.98\n",
      "\n",
      "\n",
      "BR\n",
      "country         Brazil\n",
      "capital       Brasilia\n",
      "area             8.516\n",
      "population       200.4\n",
      "Name: BR, dtype: object\n",
      "\n",
      "\n",
      "RU\n",
      "country       Russia\n",
      "capital       Moscow\n",
      "area            17.1\n",
      "population     143.5\n",
      "Name: RU, dtype: object\n",
      "\n",
      "\n",
      "IN\n",
      "country           India\n",
      "capital       New Delhi\n",
      "area              3.286\n",
      "population       1252.0\n",
      "Name: IN, dtype: object\n",
      "\n",
      "\n",
      "CH\n",
      "country         China\n",
      "capital       Beijing\n",
      "area            9.597\n",
      "population     1357.0\n",
      "Name: CH, dtype: object\n",
      "\n",
      "\n",
      "SA\n",
      "country       South Africa\n",
      "capital           Pretoria\n",
      "area                 1.221\n",
      "population           52.98\n",
      "Name: SA, dtype: object\n",
      "\n",
      "\n"
     ]
    }
   ],
   "source": [
    "#import pandas\n",
    "import pandas as pd\n",
    "\n",
    "#import the dataset using pandas\n",
    "brick = pd.read_csv(\"brics.csv\", index_col = 0)\n",
    "\n",
    "print(brick)\n",
    "print(\"\\n\")\n",
    "\n",
    "\n",
    "#printing each row of the dataset\n",
    "for lab, row in brick.iterrows():\n",
    "    print(lab)\n",
    "    print(row)\n",
    "    print(\"\\n\")"
   ]
  },
  {
   "cell_type": "markdown",
   "metadata": {},
   "source": [
    "#### Printing each row with the Capital\n",
    "\n",
    "```py\n",
    "for lab, row in brick.iterrows():\n",
    "    print(lab + \": \" + row[\"capital\"])\n",
    "\n",
    "\n",
    "#Also To print the population of each Area\n",
    "print(\"\\n\")\n",
    "for lab, row in brick.iterrows():\n",
    "    print(lab + \": \" + str(row[\"area\"]))\n",
    "\n",
    "\n",
    "print(\"\\n\")\n",
    "#Creating a series in any iteration\n",
    "brick.loc[lab, \"name_lenght\"] = brick[\"country\"].apply(len)\n",
    "print(brick)\n",
    "```"
   ]
  },
  {
   "cell_type": "code",
   "execution_count": 23,
   "metadata": {},
   "outputs": [
    {
     "name": "stdout",
     "output_type": "stream",
     "text": [
      "BR: Brasilia\n",
      "RU: Moscow\n",
      "IN: New Delhi\n",
      "CH: Beijing\n",
      "SA: Pretoria\n",
      "\n",
      "\n",
      "BR: 8.516\n",
      "RU: 17.1\n",
      "IN: 3.286\n",
      "CH: 9.597\n",
      "SA: 1.221\n",
      "         country    capital    area  population  name_length\n",
      "BR        Brazil   Brasilia   8.516      200.40            6\n",
      "RU        Russia     Moscow  17.100      143.50            6\n",
      "IN         India  New Delhi   3.286     1252.00            5\n",
      "CH         China    Beijing   9.597     1357.00            5\n",
      "SA  South Africa   Pretoria   1.221       52.98           12\n"
     ]
    }
   ],
   "source": [
    "for lab, row in brick.iterrows():\n",
    "    print(lab + \": \" + row[\"capital\"])\n",
    "\n",
    "\n",
    "#Also To print the population of each Area\n",
    "print(\"\\n\")\n",
    "for lab, row in brick.iterrows():\n",
    "    print(lab + \": \" + str(row[\"area\"]))\n",
    "\n",
    "    #Creating a series in any iteration\n",
    "    brick[\"name_length\"] = brick[\"country\"].apply(len)\n",
    "print(brick)"
   ]
  },
  {
   "cell_type": "markdown",
   "metadata": {},
   "source": [
    "### EXCERCISE PART 2\n",
    "\n",
    "\n",
    "#### **QUESTION 1**\n",
    "```py\n",
    "# Import cars data\n",
    "import pandas as pd\n",
    "cars = pd.read_csv('cars.csv', index_col = 0)\n",
    "\n",
    "# Iterate over rows of cars\n",
    "for lab, row in cars.iterrows():\n",
    "    print(lab)\n",
    "    print(row)\n",
    "```\n",
    "\n",
    "#### **QUESTION 2**\n",
    "\n",
    "```py\n",
    "# Import cars data\n",
    "import pandas as pd\n",
    "cars = pd.read_csv('cars.csv', index_col = 0)\n",
    "\n",
    "# Adapt for loop\n",
    "for lab, row in cars.iterrows():\n",
    "    print(lab + ': ' str(row[\"cars_per_cap\"]))\n",
    "```\n",
    "\n",
    "\n",
    "#### **QUESTION 3**\n",
    "```py\n",
    "\n",
    "# Import cars data\n",
    "import pandas as pd\n",
    "cars = pd.read_csv('cars.csv', index_col = 0)\n",
    "\n",
    "# Code for loop that adds COUNTRY column\n",
    "cars[\"COUNTRY\"] = cars[\"country\"].apply(str.upper)\n",
    "\n",
    "# Print cars\n",
    "print(cars)\n",
    "\n",
    "```\n",
    "\n",
    "### **QUESTION 4**\n",
    "\n",
    "```py\n",
    "\n",
    "# Import cars data\n",
    "import pandas as pd\n",
    "cars = pd.read_csv('cars.csv', index_col = 0)\n",
    "\n",
    "# Use .apply(str.upper)\n",
    "for lab, row in cars.iterrows() :\n",
    "    cars.loc[lab, \"COUNTRY\"] = row[\"country\"].upper()\n",
    "\n",
    "```\n"
   ]
  },
  {
   "cell_type": "code",
   "execution_count": 24,
   "metadata": {},
   "outputs": [
    {
     "name": "stdout",
     "output_type": "stream",
     "text": [
      "US\n",
      "cars_per_cap              809\n",
      "country         United States\n",
      "drives_right             True\n",
      "Name: US, dtype: object\n",
      "AUS\n",
      "cars_per_cap          731\n",
      "country         Australia\n",
      "drives_right        False\n",
      "Name: AUS, dtype: object\n",
      "JAP\n",
      "cars_per_cap      588\n",
      "country         Japan\n",
      "drives_right    False\n",
      "Name: JAP, dtype: object\n",
      "IN\n",
      "cars_per_cap       18\n",
      "country         India\n",
      "drives_right    False\n",
      "Name: IN, dtype: object\n",
      "RU\n",
      "cars_per_cap       200\n",
      "country         Russia\n",
      "drives_right      True\n",
      "Name: RU, dtype: object\n",
      "MOR\n",
      "cars_per_cap         70\n",
      "country         Morocco\n",
      "drives_right       True\n",
      "Name: MOR, dtype: object\n",
      "EG\n",
      "cars_per_cap       45\n",
      "country         Egypt\n",
      "drives_right     True\n",
      "Name: EG, dtype: object\n"
     ]
    }
   ],
   "source": [
    "# Import cars data\n",
    "import pandas as pd\n",
    "cars = pd.read_csv('cars.csv', index_col = 0)\n",
    "\n",
    "# Iterate over rows of cars\n",
    "for lab, row in cars.iterrows():\n",
    "    print(lab)\n",
    "    print(row)"
   ]
  },
  {
   "cell_type": "code",
   "execution_count": 27,
   "metadata": {},
   "outputs": [
    {
     "name": "stdout",
     "output_type": "stream",
     "text": [
      "US: 809\n",
      "AUS: 731\n",
      "JAP: 588\n",
      "IN: 18\n",
      "RU: 200\n",
      "MOR: 70\n",
      "EG: 45\n"
     ]
    }
   ],
   "source": [
    "#Import cars data\n",
    "import pandas as pd\n",
    "cars = pd.read_csv('cars.csv', index_col = 0)\n",
    "\n",
    "# Adapt for loop\n",
    "for lab, row in cars.iterrows():\n",
    "    print(lab + \": \" + str(row['cars_per_cap']))"
   ]
  },
  {
   "cell_type": "code",
   "execution_count": 33,
   "metadata": {},
   "outputs": [
    {
     "name": "stdout",
     "output_type": "stream",
     "text": [
      "     cars_per_cap        country  drives_right        COUNTRY\n",
      "US            809  United States          True  UNITED STATES\n",
      "AUS           731      Australia         False      AUSTRALIA\n",
      "JAP           588          Japan         False          JAPAN\n",
      "IN             18          India         False          INDIA\n",
      "RU            200         Russia          True         RUSSIA\n",
      "MOR            70        Morocco          True        MOROCCO\n",
      "EG             45          Egypt          True          EGYPT\n"
     ]
    }
   ],
   "source": [
    "# Import cars data\n",
    "import pandas as pd\n",
    "cars = pd.read_csv('cars.csv', index_col = 0)\n",
    "\n",
    "# Code for loop that adds COUNTRY column\n",
    "cars[\"COUNTRY\"] = cars[\"country\"].apply(str.upper)\n",
    "\n",
    "\n",
    "\n",
    "# Print cars\n",
    "print(cars)\n"
   ]
  },
  {
   "cell_type": "code",
   "execution_count": 35,
   "metadata": {},
   "outputs": [
    {
     "name": "stdout",
     "output_type": "stream",
     "text": [
      "     cars_per_cap        country  drives_right        COUNTRY\n",
      "US            809  United States          True  UNITED STATES\n",
      "AUS           731      Australia         False      AUSTRALIA\n",
      "JAP           588          Japan         False          JAPAN\n",
      "IN             18          India         False          INDIA\n",
      "RU            200         Russia          True         RUSSIA\n",
      "MOR            70        Morocco          True        MOROCCO\n",
      "EG             45          Egypt          True          EGYPT\n"
     ]
    }
   ],
   "source": [
    "# Import cars data\n",
    "import pandas as pd\n",
    "cars = pd.read_csv('cars.csv', index_col = 0)\n",
    "\n",
    "# Use .apply(str.upper)\n",
    "cars[\"COUNTRY\"] = cars[\"country\"].apply(str.upper)\n",
    "print(cars)\n"
   ]
  },
  {
   "cell_type": "markdown",
   "metadata": {},
   "source": [
    "## RANDOM NUMBERS 2"
   ]
  },
  {
   "cell_type": "markdown",
   "metadata": {},
   "source": [
    "**A RANDOM**: A random number is use to generate numbers, shuffle numbers, etc. it is use mostly in the generation of game application. for example \n",
    "\n",
    "\n",
    "```py\n",
    "import random as rd\n",
    "\n",
    "#Generate a random number between 50 and 100\n",
    "numbers = rd.randint(50, 100)\n",
    "print(numbers)\n",
    "\n",
    "\n",
    "#generating a number using variable \n",
    "low = 600\n",
    "hight = 700\n",
    "\n",
    "numbers_1 = rd.randint(low, hight)\n",
    "print(numbers_1)\n",
    "\n",
    "\n",
    "#Make a Choice from a list of turple \n",
    "options = (\"rice\", \"beans\", \"fufu\", \"amala\", \"meat and egee\")\n",
    "\n",
    "#declear a variable of the option \n",
    "option = rd.choice(options)         \n",
    "print(option)\n",
    "\n",
    "\n",
    "#using random to shuffle a list \n",
    "cards = [\"2\", \"3\", \"4\", \"5\", \"6\", \"7\", \"8\", \"9\", \"10\", \"J\", \"Q\", \"K\", \"A\"]\n",
    "rd.shuffle(cards)\n",
    "print(cards)\n",
    "```\n",
    "\n",
    "### **NUMBER GUSSING GAME**\n",
    "\n",
    "```py\n",
    "import random\n",
    "\n",
    "low = 1\n",
    "hight = 100\n",
    "numbers = random.randint(low, high)\n",
    "\n",
    "\n",
    "#using a While lope\n",
    "while True:\n",
    "    guess = int(input(f\"Enter a Number between ({low})- ({hight}): \"))\n",
    "\n",
    "    #Increment our guess by 1\n",
    "    guessess += 1\n",
    "\n",
    "    if guess < numbers:\n",
    "        print(f\"{guess} is too low\")\n",
    "    elif guess > numbers:\n",
    "        print(f\"{guess} is too high\")\n",
    "    else:\n",
    "        print(f\"{guess} is Correct! \")\n",
    "        break\n",
    "\n",
    "print(f\"This round took you {guessess} guesses\")\n",
    "\n",
    "```"
   ]
  },
  {
   "cell_type": "code",
   "execution_count": 29,
   "metadata": {},
   "outputs": [
    {
     "name": "stdout",
     "output_type": "stream",
     "text": [
      "77\n",
      "632\n",
      "rice\n",
      "['Q', 'A', '4', '2', '10', '9', '8', '7', 'K', '3', 'J', '6', '5']\n"
     ]
    }
   ],
   "source": [
    "import random as rd\n",
    "\n",
    "#Generate a random number between 50 and 100\n",
    "numbers = rd.randint(50, 100)\n",
    "print(numbers)\n",
    "\n",
    "\n",
    "#generating a number using variable \n",
    "low = 600\n",
    "hight = 700\n",
    "\n",
    "numbers_1 = rd.randint(low, hight)\n",
    "print(numbers_1)\n",
    "\n",
    "\n",
    "#Make a Choice from a list of turple \n",
    "options = (\"rice\", \"beans\", \"fufu\", \"amala\", \"meat and egee\")\n",
    "\n",
    "#declear a variable of the option \n",
    "option = rd.choice(options)         \n",
    "print(option)\n",
    "\n",
    "\n",
    "#using random to shuffle a list \n",
    "cards = [\"2\", \"3\", \"4\", \"5\", \"6\", \"7\", \"8\", \"9\", \"10\", \"J\", \"Q\", \"K\", \"A\"]\n",
    "rd.shuffle(cards)\n",
    "print(cards)"
   ]
  },
  {
   "cell_type": "markdown",
   "metadata": {},
   "source": [
    "### **NUMBER GUSSING GAME**"
   ]
  },
  {
   "cell_type": "code",
   "execution_count": 3,
   "metadata": {},
   "outputs": [
    {
     "name": "stdout",
     "output_type": "stream",
     "text": [
      "The number 50 is too low\n",
      "The number 60 is too high\n",
      "The number 65 is too high\n",
      "The number 55 is too low\n",
      "The number 56 is too low\n",
      "The number 57 is too low\n",
      "The number 58 is Correct!\n",
      "This round took you 7 guessess\n"
     ]
    }
   ],
   "source": [
    "import random\n",
    "\n",
    "low = 1\n",
    "high = 100\n",
    "guesses = 0\n",
    "num = random.randint(low, high)\n",
    "\n",
    "#Using while loop \n",
    "\n",
    "while True:\n",
    "    guess = int(input(f\"Enter the number between ({low} - {high}): \"))\n",
    "    guesses += 1\n",
    "\n",
    "    if guess < num:\n",
    "        print(f\"The number {guess} is too low\")\n",
    "    elif guess > num:\n",
    "        print(f\"The number {guess} is too high\")\n",
    "    else:\n",
    "        print(f\"The number {guess} is Correct!\")\n",
    "        break\n",
    "\n",
    "print(f\"This round took you {guesses} guessess\")"
   ]
  },
  {
   "cell_type": "code",
   "execution_count": 30,
   "metadata": {},
   "outputs": [
    {
     "name": "stdout",
     "output_type": "stream",
     "text": [
      "0.5230956815270057\n",
      "0.9065461151259007\n",
      "0.45897472386366955\n",
      "0.19962879305075598\n",
      "0.9573586804453994\n",
      "0.582539869083948\n",
      "0.8545128256446586\n",
      "0.8067759373452857\n",
      "0.19743367514705568\n",
      "0.31310888788624536\n",
      "15.284726356713644\n",
      "5.759282302106683\n",
      "7.87898873337254\n",
      "12.717943871751668\n",
      "13.035008357494325\n",
      "12.911420927072282\n",
      "8.866543747862677\n",
      "2.237075666575915\n",
      "17.867222862803594\n",
      "3.575003123822579\n",
      "\n",
      "\n",
      "2.335322575948286\n",
      "-2.489075125928551\n",
      "2.482088092927682\n",
      "1.557037547535874\n",
      "-2.8349642855710995\n",
      "7.1625669938095715\n",
      "6.131313155863859\n",
      "-0.1682904317783276\n",
      "6.724222349725014\n",
      "3.4623523644663923\n",
      "9.25069967199508\n",
      "6.7537175668394624\n",
      "-2.772481929182857\n",
      "1.9729302235100317\n",
      "9.817655165695482\n",
      "0.684453639988778\n",
      "-1.7747946456316561\n",
      "-0.10996469906828388\n",
      "-3.1219115147522887\n",
      "1.8001011255472952\n",
      "\n",
      "\n",
      "scissors\n",
      "scissors\n",
      "dies\n",
      "razor\n",
      "scissors\n",
      "dies\n",
      "scissors\n",
      "scissors\n",
      "razor\n",
      "scissors\n"
     ]
    }
   ],
   "source": [
    "# Display 10 random numbers from interval [0, 1]\n",
    "\n",
    "import random\n",
    "\n",
    "for i in range(10):\n",
    "    print(random.random())\n",
    "\n",
    "#also make use of uniform methond\n",
    "\n",
    "for i in range(10):\n",
    "    print(random.uniform(2, 20))\n",
    "\n",
    "print(\"\\n\")\n",
    "for i in range(20): \n",
    "    print(random.normalvariate(2, 5))\n",
    "\n",
    "\n",
    "\n",
    "print(\"\\n\")\n",
    "\n",
    "choices = [\"scissors\", \"razor\", \"dies\"]\n",
    "\n",
    "for i in range(10):\n",
    "    print(random.choice(choices))"
   ]
  },
  {
   "cell_type": "markdown",
   "metadata": {},
   "source": [
    "### **MORE TO RANDOM NUMBER**"
   ]
  },
  {
   "cell_type": "code",
   "execution_count": 10,
   "metadata": {},
   "outputs": [
    {
     "name": "stdout",
     "output_type": "stream",
     "text": [
      "Tail\n"
     ]
    }
   ],
   "source": [
    "import random\n",
    "\n",
    "coint = random.randint(0,2)\n",
    "if coint == 0:\n",
    "    print(\"Head\")\n",
    "else:\n",
    "    print(\"Tail\")"
   ]
  },
  {
   "cell_type": "markdown",
   "metadata": {},
   "source": [
    "#### **EXERCISE**\n",
    "\n",
    "### **QUESTION 1**\n",
    "```py\n",
    "# Import numpy as np\n",
    "import numoy as np\n",
    "\n",
    "# Set the seed\n",
    "np.random.seed(123)\n",
    "# Generate and print random float\n",
    "np.random.rand()\n",
    "```\n",
    "\n",
    "### **QUESTION 2**\n",
    "\n",
    "```py\n",
    "# Import numpy and set seed\n",
    "import numpy as np\n",
    "np.random.seed(123)\n",
    "\n",
    "# Use randint() to simulate a dice\n",
    "np.random.randint(1, 6)\n",
    "\n",
    "# Use randint() again\n",
    "np.random.randint(1, 6)\n",
    "```"
   ]
  },
  {
   "cell_type": "code",
   "execution_count": 21,
   "metadata": {},
   "outputs": [
    {
     "name": "stdout",
     "output_type": "stream",
     "text": [
      "0.6964691855978616\n",
      "6\n",
      "3\n",
      "5\n",
      "51\n"
     ]
    }
   ],
   "source": [
    "# Import numpy as np\n",
    "import numpy as np\n",
    "\n",
    "# Set the seed\n",
    "np.random.seed(123)\n",
    "# Generate and print random float\n",
    "print(np.random.rand())\n",
    "\n",
    "\n",
    "# Import numpy and set seed\n",
    "import numpy as np\n",
    "np.random.seed(123)\n",
    "\n",
    "# Use randint() to simulate a dice\n",
    "print(np.random.randint(1, 7))\n",
    "\n",
    "# Use randint() again\n",
    "print(np.random.randint(1, 7))\n",
    "\n",
    "\n",
    "# NumPy is imported, seed is set\n",
    "\n",
    "# Starting step\n",
    "step = 50\n",
    "\n",
    "# Roll the dice\n",
    "dice = np.random.randint(1,7)\n",
    "\n",
    "# Finish the control construct\n",
    "if dice <= 2 :\n",
    "    step = step - 1\n",
    "elif dice <= 5 :\n",
    "    step = step + 1\n",
    "else :\n",
    "    step = step + np.random.randint(1,7)\n",
    "\n",
    "# Print out dice and step\n",
    "print(dice)\n",
    "print(step)"
   ]
  },
  {
   "cell_type": "markdown",
   "metadata": {},
   "source": [
    "```py\n",
    "import numpy as np\n",
    "np.random.seed(123)\n",
    "outcome[]\n",
    "\n",
    "for x in range(10):\n",
    "    coin = np.random.randint(0,2)\n",
    "    if coin == 0:\n",
    "        outcome.append(\"Heads\")\n",
    "    esle:\n",
    "        outcome.append(\"tails\")\n",
    "\n",
    "import numpy as np\n",
    "no.random.seed(123)\n",
    "tails = [0]\n",
    "\n",
    "for x in range(10):\n",
    "    coin = np.random.randint(0,2)\n",
    "    tails.append(tails[x] + coin)\n",
    "\n",
    "\n",
    "```"
   ]
  },
  {
   "cell_type": "markdown",
   "metadata": {},
   "source": [
    "### **RANDOM WALK**"
   ]
  },
  {
   "cell_type": "code",
   "execution_count": null,
   "metadata": {},
   "outputs": [
    {
     "name": "stdout",
     "output_type": "stream",
     "text": [
      "['heads', 'tails', 'heads', 'heads', 'heads', 'heads', 'heads', 'tails', 'tails', 'heads']\n",
      "[0, 0, 1, 1, 1, 1, 1, 1, 2, 3, 3]\n"
     ]
    }
   ],
   "source": [
    "# Random walk\n",
    "import numpy as np\n",
    "np.random.seed(123)\n",
    "outcomes = []\n",
    "for x in range(10):\n",
    "    coin = np.random.randint(0, 2)\n",
    "    if coin == 0:\n",
    "        outcomes.append(\"heads\")\n",
    "    else:\n",
    "        outcomes.append(\"tails\")\n",
    "print(outcomes)\n",
    "\n",
    "\n",
    "import numpy as np\n",
    "np.random.seed(123)\n",
    "tails = [0]\n",
    "\n",
    "for x in range(10):\n",
    "    coin = np.random.randint(0,2)\n",
    "    tails.append(tails[x] + coin)\n",
    "print(tails)\n",
    "\n",
    "\n",
    "\n",
    "# NumPy is imported, seed is set\n",
    "\n",
    "# Initialize random_walk\n",
    "random_walk = [0]\n",
    "\n",
    "# Complete the ___\n",
    "for x in range(100) :\n",
    "    # Set step: last element in random_walk\n",
    "    step = random_walk[-1]\n",
    "    if np.random.randint(0, 2) == 0:\n",
    "        step = step - 1\n",
    "    else:\n",
    "        step = step + 1\n",
    "    random_walk.append(step)\n",
    "\n",
    "    # Roll the dice\n",
    "    dice = np.random.randint(1,7)\n",
    "\n",
    "    # Determine next step\n",
    "    if dice <= 2:\n",
    "        step = step - 1\n",
    "    elif dice <= 5:\n",
    "        step = step + 1\n",
    "    else:\n",
    "        step = step + np.random.randint(1,7)\n",
    "\n",
    "    # append next_step to random_walk\n",
    "    random_walk.append(step)\n",
    "\n",
    "# Print random_walk"
   ]
  },
  {
   "cell_type": "code",
   "execution_count": 12,
   "metadata": {},
   "outputs": [
    {
     "name": "stdout",
     "output_type": "stream",
     "text": [
      "[0, 1, 0, 1, 6, 7, 8, 7, 8, 9, 10, 9, 10, 9, 10, 11, 10, 9, 8, 9, 10, 9, 8, 7, 8, 12, 13, 14, 15, 16, 17, 16, 17, 18, 17, 18, 23, 24, 23, 22, 23, 22, 21, 20, 24, 25, 26, 27, 26, 27, 28, 29, 30, 31, 30, 29, 32, 31, 30, 29, 28, 29, 35, 36, 35, 36, 37, 36, 35, 36, 37, 38, 37, 41, 42, 41, 43, 44, 43, 44, 45, 46, 47, 48, 49, 48, 47, 48, 49, 48, 49, 50, 49, 48, 47, 51, 52, 53, 54, 55, 56]\n"
     ]
    },
    {
     "data": {
      "image/png": "[encoded data removed]",
      "text/plain": [
       "<Figure size 640x480 with 1 Axes>"
      ]
     },
     "metadata": {},
     "output_type": "display_data"
    }
   ],
   "source": [
    "# NumPy is imported, seed is set\n",
    "\n",
    "# Initialize random_walk\n",
    "random_walk = [0]\n",
    "\n",
    "for x in range(100) :\n",
    "    step = random_walk[-1]\n",
    "    dice = np.random.randint(1,7)\n",
    "\n",
    "    if dice <= 2:\n",
    "        # Replace below: use max to make sure step can't go below 0\n",
    "        step = max(0, step - 1)\n",
    "    elif dice <= 5:\n",
    "        step = step + 1\n",
    "    else:\n",
    "        step = step + np.random.randint(1,7)\n",
    "\n",
    "    random_walk.append(step)\n",
    "\n",
    "print(random_walk)\n",
    "\n",
    "import matplotlib.pyplot as plt\n",
    "plt.plot(random_walk)\n",
    "plt.show()"
   ]
  }
 ],
 "metadata": {
  "kernelspec": {
   "display_name": "ArewaDS",
   "language": "python",
   "name": "python3"
  },
  "language_info": {
   "codemirror_mode": {
    "name": "ipython",
    "version": 3
   },
   "file_extension": ".py",
   "mimetype": "text/x-python",
   "name": "python",
   "nbconvert_exporter": "python",
   "pygments_lexer": "ipython3",
   "version": "3.13.1"
  }
 },
 "nbformat": 4,
 "nbformat_minor": 2
}
