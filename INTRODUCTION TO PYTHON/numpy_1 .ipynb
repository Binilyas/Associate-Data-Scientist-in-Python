{
 "cells": [
  {
   "cell_type": "markdown",
   "metadata": {},
   "source": [
    "### how to Load and use numpy"
   ]
  },
  {
   "cell_type": "code",
   "execution_count": 14,
   "metadata": {},
   "outputs": [
    {
     "name": "stdout",
     "output_type": "stream",
     "text": [
      "[ 49  64  81 100 121]\n",
      "(2, 4)\n",
      "[25 26 27 28]\n"
     ]
    }
   ],
   "source": [
    "import numpy as np\n",
    "\n",
    "#simple array\n",
    "a = np.array([7, 8, 9, 10, 11])\n",
    "print(a **2)\n",
    "\n",
    "#Complex array\n",
    "b = np.array([[25, 26, 27, 28], [40, 20, 30, 60]])\n",
    "\n",
    "#print the info of the array\n",
    "print(b.shape)\n",
    "\n",
    "#Storing first column on the first row\n",
    "\n",
    "new_column = b[0, :]\n",
    "print(new_column)\n"
   ]
  },
  {
   "cell_type": "code",
   "execution_count": null,
   "metadata": {},
   "outputs": [
    {
     "name": "stdout",
     "output_type": "stream",
     "text": [
      "[[ 1.68  2.68  9.85]\n",
      " [82.25 20.   40.36]\n",
      " [25.   26.   40.  ]]\n",
      "(3, 3)\n"
     ]
    },
    {
     "data": {
      "text/plain": [
       "2"
      ]
     },
     "execution_count": 25,
     "metadata": {},
     "output_type": "execute_result"
    }
   ],
   "source": [
    "#3D arrays\n",
    "\n",
    "# declearing a varibale\n",
    "height = [1.68, 2.68, 9.85]\n",
    "weight = [82.25, 20.00, 40.36]\n",
    "age = [25, 26, 40]\n",
    "\n",
    "#coverting the three list into an array\n",
    "np_3d = np.array([height, weight, age])\n",
    "print(np_3d)\n",
    "\n",
    "#Checking the info\n",
    "print(np_3d.shape)\n"
   ]
  },
  {
   "cell_type": "code",
   "execution_count": null,
   "metadata": {},
   "outputs": [],
   "source": []
  }
 ],
 "metadata": {
  "kernelspec": {
   "display_name": "ArewaDS",
   "language": "python",
   "name": "python3"
  },
  "language_info": {
   "codemirror_mode": {
    "name": "ipython",
    "version": 3
   },
   "file_extension": ".py",
   "mimetype": "text/x-python",
   "name": "python",
   "nbconvert_exporter": "python",
   "pygments_lexer": "ipython3",
   "version": "3.13.1"
  }
 },
 "nbformat": 4,
 "nbformat_minor": 2
}
